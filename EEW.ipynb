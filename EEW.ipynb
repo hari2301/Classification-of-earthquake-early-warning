{
  "nbformat": 4,
  "nbformat_minor": 0,
  "metadata": {
    "colab": {
      "name": "EEW.ipynb",
      "provenance": [],
      "include_colab_link": true
    },
    "kernelspec": {
      "display_name": "Python 3",
      "language": "python",
      "name": "python3"
    },
    "language_info": {
      "codemirror_mode": {
        "name": "ipython",
        "version": 3
      },
      "file_extension": ".py",
      "mimetype": "text/x-python",
      "name": "python",
      "nbconvert_exporter": "python",
      "pygments_lexer": "ipython3",
      "version": "3.7.6"
    }
  },
  "cells": [
    {
      "cell_type": "markdown",
      "metadata": {
        "id": "view-in-github",
        "colab_type": "text"
      },
      "source": [
        "<a href=\"https://colab.research.google.com/github/hari2301/Classification-of-earthquake-early-warning/blob/main/EEW.ipynb\" target=\"_parent\"><img src=\"https://colab.research.google.com/assets/colab-badge.svg\" alt=\"Open In Colab\"/></a>"
      ]
    },
    {
      "cell_type": "code",
      "metadata": {
        "id": "kRntna-iDMV5"
      },
      "source": [
        "import pandas as pd\n",
        "import numpy as np\n",
        "import matplotlib.pyplot as plt\n",
        "import seaborn as sns\n",
        "from sklearn.preprocessing import StandardScaler\n",
        "from sklearn.preprocessing import LabelEncoder"
      ],
      "execution_count": 1,
      "outputs": []
    },
    {
      "cell_type": "code",
      "metadata": {
        "colab": {
          "base_uri": "https://localhost:8080/",
          "height": 444
        },
        "id": "hTAN1j0JDMV_",
        "outputId": "03632e63-8c44-4490-e0f2-390c29a99704"
      },
      "source": [
        "data_gps=pd.read_csv('/content/drive/MyDrive/Data Science/datasets/Dataset_GPS',delimiter=' ')\n",
        "data_ses=pd.read_csv('/content/drive/MyDrive/Data Science/datasets/Dataset_Seismometers',delimiter=' ')\n",
        "data_gps"
      ],
      "execution_count": 4,
      "outputs": [
        {
          "output_type": "execute_result",
          "data": {
            "text/html": [
              "<div>\n",
              "<style scoped>\n",
              "    .dataframe tbody tr th:only-of-type {\n",
              "        vertical-align: middle;\n",
              "    }\n",
              "\n",
              "    .dataframe tbody tr th {\n",
              "        vertical-align: top;\n",
              "    }\n",
              "\n",
              "    .dataframe thead th {\n",
              "        text-align: right;\n",
              "    }\n",
              "</style>\n",
              "<table border=\"1\" class=\"dataframe\">\n",
              "  <thead>\n",
              "    <tr style=\"text-align: right;\">\n",
              "      <th></th>\n",
              "      <th>event_id</th>\n",
              "      <th>event_time</th>\n",
              "      <th>event_magnitude</th>\n",
              "      <th>event_latitude</th>\n",
              "      <th>event_longitude</th>\n",
              "      <th>event_depth</th>\n",
              "      <th>mts_id</th>\n",
              "      <th>station</th>\n",
              "      <th>station_latitude</th>\n",
              "      <th>station_longitude</th>\n",
              "      <th>timestamp</th>\n",
              "      <th>dimension_E</th>\n",
              "      <th>dimension_N</th>\n",
              "      <th>dimension_Z</th>\n",
              "      <th>label</th>\n",
              "    </tr>\n",
              "  </thead>\n",
              "  <tbody>\n",
              "    <tr>\n",
              "      <th>0</th>\n",
              "      <td>0</td>\n",
              "      <td>2004-09-28T171524</td>\n",
              "      <td>6.0</td>\n",
              "      <td>35.815</td>\n",
              "      <td>-120.37</td>\n",
              "      <td>7.9</td>\n",
              "      <td>0</td>\n",
              "      <td>CAND</td>\n",
              "      <td>35.9394</td>\n",
              "      <td>-120.4337</td>\n",
              "      <td>1096391724</td>\n",
              "      <td>-15100.000000</td>\n",
              "      <td>52600.000000</td>\n",
              "      <td>28100.000000</td>\n",
              "      <td>large</td>\n",
              "    </tr>\n",
              "    <tr>\n",
              "      <th>1</th>\n",
              "      <td>0</td>\n",
              "      <td>2004-09-28T171524</td>\n",
              "      <td>6.0</td>\n",
              "      <td>35.815</td>\n",
              "      <td>-120.37</td>\n",
              "      <td>7.9</td>\n",
              "      <td>0</td>\n",
              "      <td>CAND</td>\n",
              "      <td>35.9394</td>\n",
              "      <td>-120.4337</td>\n",
              "      <td>1096391725</td>\n",
              "      <td>-14100.000000</td>\n",
              "      <td>51900.000000</td>\n",
              "      <td>23300.000000</td>\n",
              "      <td>large</td>\n",
              "    </tr>\n",
              "    <tr>\n",
              "      <th>2</th>\n",
              "      <td>0</td>\n",
              "      <td>2004-09-28T171524</td>\n",
              "      <td>6.0</td>\n",
              "      <td>35.815</td>\n",
              "      <td>-120.37</td>\n",
              "      <td>7.9</td>\n",
              "      <td>0</td>\n",
              "      <td>CAND</td>\n",
              "      <td>35.9394</td>\n",
              "      <td>-120.4337</td>\n",
              "      <td>1096391726</td>\n",
              "      <td>-8500.000000</td>\n",
              "      <td>51300.000000</td>\n",
              "      <td>20900.000000</td>\n",
              "      <td>large</td>\n",
              "    </tr>\n",
              "    <tr>\n",
              "      <th>3</th>\n",
              "      <td>0</td>\n",
              "      <td>2004-09-28T171524</td>\n",
              "      <td>6.0</td>\n",
              "      <td>35.815</td>\n",
              "      <td>-120.37</td>\n",
              "      <td>7.9</td>\n",
              "      <td>0</td>\n",
              "      <td>CAND</td>\n",
              "      <td>35.9394</td>\n",
              "      <td>-120.4337</td>\n",
              "      <td>1096391727</td>\n",
              "      <td>3500.000000</td>\n",
              "      <td>37600.000000</td>\n",
              "      <td>11100.000000</td>\n",
              "      <td>large</td>\n",
              "    </tr>\n",
              "    <tr>\n",
              "      <th>4</th>\n",
              "      <td>0</td>\n",
              "      <td>2004-09-28T171524</td>\n",
              "      <td>6.0</td>\n",
              "      <td>35.815</td>\n",
              "      <td>-120.37</td>\n",
              "      <td>7.9</td>\n",
              "      <td>0</td>\n",
              "      <td>CAND</td>\n",
              "      <td>35.9394</td>\n",
              "      <td>-120.4337</td>\n",
              "      <td>1096391728</td>\n",
              "      <td>4700.000000</td>\n",
              "      <td>48400.000000</td>\n",
              "      <td>8900.000000</td>\n",
              "      <td>large</td>\n",
              "    </tr>\n",
              "    <tr>\n",
              "      <th>...</th>\n",
              "      <td>...</td>\n",
              "      <td>...</td>\n",
              "      <td>...</td>\n",
              "      <td>...</td>\n",
              "      <td>...</td>\n",
              "      <td>...</td>\n",
              "      <td>...</td>\n",
              "      <td>...</td>\n",
              "      <td>...</td>\n",
              "      <td>...</td>\n",
              "      <td>...</td>\n",
              "      <td>...</td>\n",
              "      <td>...</td>\n",
              "      <td>...</td>\n",
              "      <td>...</td>\n",
              "    </tr>\n",
              "    <tr>\n",
              "      <th>124315</th>\n",
              "      <td>268</td>\n",
              "      <td>2018-11-26T005225</td>\n",
              "      <td>0.0</td>\n",
              "      <td>0.000</td>\n",
              "      <td>0.00</td>\n",
              "      <td>0.0</td>\n",
              "      <td>2071</td>\n",
              "      <td>330blsa</td>\n",
              "      <td>0.0000</td>\n",
              "      <td>0.0000</td>\n",
              "      <td>1543193600</td>\n",
              "      <td>-0.193384</td>\n",
              "      <td>0.074501</td>\n",
              "      <td>-0.045355</td>\n",
              "      <td>normal</td>\n",
              "    </tr>\n",
              "    <tr>\n",
              "      <th>124316</th>\n",
              "      <td>268</td>\n",
              "      <td>2018-11-26T005225</td>\n",
              "      <td>0.0</td>\n",
              "      <td>0.000</td>\n",
              "      <td>0.00</td>\n",
              "      <td>0.0</td>\n",
              "      <td>2071</td>\n",
              "      <td>330blsa</td>\n",
              "      <td>0.0000</td>\n",
              "      <td>0.0000</td>\n",
              "      <td>1543193601</td>\n",
              "      <td>-0.195025</td>\n",
              "      <td>0.082668</td>\n",
              "      <td>-0.043265</td>\n",
              "      <td>normal</td>\n",
              "    </tr>\n",
              "    <tr>\n",
              "      <th>124317</th>\n",
              "      <td>268</td>\n",
              "      <td>2018-11-26T005225</td>\n",
              "      <td>0.0</td>\n",
              "      <td>0.000</td>\n",
              "      <td>0.00</td>\n",
              "      <td>0.0</td>\n",
              "      <td>2071</td>\n",
              "      <td>330blsa</td>\n",
              "      <td>0.0000</td>\n",
              "      <td>0.0000</td>\n",
              "      <td>1543193602</td>\n",
              "      <td>-0.194118</td>\n",
              "      <td>0.078159</td>\n",
              "      <td>-0.044416</td>\n",
              "      <td>normal</td>\n",
              "    </tr>\n",
              "    <tr>\n",
              "      <th>124318</th>\n",
              "      <td>268</td>\n",
              "      <td>2018-11-26T005225</td>\n",
              "      <td>0.0</td>\n",
              "      <td>0.000</td>\n",
              "      <td>0.00</td>\n",
              "      <td>0.0</td>\n",
              "      <td>2071</td>\n",
              "      <td>330blsa</td>\n",
              "      <td>0.0000</td>\n",
              "      <td>0.0000</td>\n",
              "      <td>1543193603</td>\n",
              "      <td>-0.194359</td>\n",
              "      <td>0.079362</td>\n",
              "      <td>-0.044106</td>\n",
              "      <td>normal</td>\n",
              "    </tr>\n",
              "    <tr>\n",
              "      <th>124319</th>\n",
              "      <td>268</td>\n",
              "      <td>2018-11-26T005225</td>\n",
              "      <td>0.0</td>\n",
              "      <td>0.000</td>\n",
              "      <td>0.00</td>\n",
              "      <td>0.0</td>\n",
              "      <td>2071</td>\n",
              "      <td>330blsa</td>\n",
              "      <td>0.0000</td>\n",
              "      <td>0.0000</td>\n",
              "      <td>1543193604</td>\n",
              "      <td>-0.194398</td>\n",
              "      <td>0.079556</td>\n",
              "      <td>-0.044055</td>\n",
              "      <td>normal</td>\n",
              "    </tr>\n",
              "  </tbody>\n",
              "</table>\n",
              "<p>124320 rows × 15 columns</p>\n",
              "</div>"
            ],
            "text/plain": [
              "        event_id         event_time  ...   dimension_Z   label\n",
              "0              0  2004-09-28T171524  ...  28100.000000   large\n",
              "1              0  2004-09-28T171524  ...  23300.000000   large\n",
              "2              0  2004-09-28T171524  ...  20900.000000   large\n",
              "3              0  2004-09-28T171524  ...  11100.000000   large\n",
              "4              0  2004-09-28T171524  ...   8900.000000   large\n",
              "...          ...                ...  ...           ...     ...\n",
              "124315       268  2018-11-26T005225  ...     -0.045355  normal\n",
              "124316       268  2018-11-26T005225  ...     -0.043265  normal\n",
              "124317       268  2018-11-26T005225  ...     -0.044416  normal\n",
              "124318       268  2018-11-26T005225  ...     -0.044106  normal\n",
              "124319       268  2018-11-26T005225  ...     -0.044055  normal\n",
              "\n",
              "[124320 rows x 15 columns]"
            ]
          },
          "metadata": {
            "tags": []
          },
          "execution_count": 4
        }
      ]
    },
    {
      "cell_type": "code",
      "metadata": {
        "id": "oEI3JsYvxK1t"
      },
      "source": [
        "data_gps['event_time']=pd.to_datetime(data_gps['event_time'],format=\"%Y-%m-%d\")"
      ],
      "execution_count": 5,
      "outputs": []
    },
    {
      "cell_type": "code",
      "metadata": {
        "colab": {
          "base_uri": "https://localhost:8080/"
        },
        "id": "v6Igp2rPQlrb",
        "outputId": "d4768404-2707-448f-8a42-c729886982cf"
      },
      "source": [
        "from google.colab import drive\n",
        "drive.mount('/content/drive')"
      ],
      "execution_count": 3,
      "outputs": [
        {
          "output_type": "stream",
          "text": [
            "Mounted at /content/drive\n"
          ],
          "name": "stdout"
        }
      ]
    },
    {
      "cell_type": "code",
      "metadata": {
        "id": "5HiiWEWR7ssL"
      },
      "source": [
        "data_ses['event_time']=pd.to_datetime(data_ses['event_time'],format=\"%Y-%m-%d\")"
      ],
      "execution_count": 6,
      "outputs": []
    },
    {
      "cell_type": "code",
      "metadata": {
        "colab": {
          "base_uri": "https://localhost:8080/",
          "height": 617
        },
        "id": "fMpL75Z9dj1s",
        "outputId": "4aaad01d-b92e-4c77-e384-ce5cc70cbcf4"
      },
      "source": [
        "data_ses"
      ],
      "execution_count": 7,
      "outputs": [
        {
          "output_type": "execute_result",
          "data": {
            "text/html": [
              "<div>\n",
              "<style scoped>\n",
              "    .dataframe tbody tr th:only-of-type {\n",
              "        vertical-align: middle;\n",
              "    }\n",
              "\n",
              "    .dataframe tbody tr th {\n",
              "        vertical-align: top;\n",
              "    }\n",
              "\n",
              "    .dataframe thead th {\n",
              "        text-align: right;\n",
              "    }\n",
              "</style>\n",
              "<table border=\"1\" class=\"dataframe\">\n",
              "  <thead>\n",
              "    <tr style=\"text-align: right;\">\n",
              "      <th></th>\n",
              "      <th>event_id</th>\n",
              "      <th>event_time</th>\n",
              "      <th>event_magnitude</th>\n",
              "      <th>event_latitude</th>\n",
              "      <th>event_longitude</th>\n",
              "      <th>event_depth</th>\n",
              "      <th>mts_id</th>\n",
              "      <th>station</th>\n",
              "      <th>station_latitude</th>\n",
              "      <th>station_longitude</th>\n",
              "      <th>timestamp</th>\n",
              "      <th>dimension_E</th>\n",
              "      <th>dimension_N</th>\n",
              "      <th>dimension_Z</th>\n",
              "      <th>label</th>\n",
              "    </tr>\n",
              "  </thead>\n",
              "  <tbody>\n",
              "    <tr>\n",
              "      <th>0</th>\n",
              "      <td>0</td>\n",
              "      <td>2004-09-28 17:15:24.000</td>\n",
              "      <td>6.0</td>\n",
              "      <td>35.8150</td>\n",
              "      <td>-120.3700</td>\n",
              "      <td>7.9</td>\n",
              "      <td>0</td>\n",
              "      <td>BK.BDM</td>\n",
              "      <td>37.95397</td>\n",
              "      <td>-121.86554</td>\n",
              "      <td>1096391724</td>\n",
              "      <td>-0.030004</td>\n",
              "      <td>0.079600</td>\n",
              "      <td>0.133552</td>\n",
              "      <td>large</td>\n",
              "    </tr>\n",
              "    <tr>\n",
              "      <th>1</th>\n",
              "      <td>0</td>\n",
              "      <td>2004-09-28 17:15:24.000</td>\n",
              "      <td>6.0</td>\n",
              "      <td>35.8150</td>\n",
              "      <td>-120.3700</td>\n",
              "      <td>7.9</td>\n",
              "      <td>0</td>\n",
              "      <td>BK.BDM</td>\n",
              "      <td>37.95397</td>\n",
              "      <td>-121.86554</td>\n",
              "      <td>1096391725</td>\n",
              "      <td>-0.030005</td>\n",
              "      <td>0.079615</td>\n",
              "      <td>0.133559</td>\n",
              "      <td>large</td>\n",
              "    </tr>\n",
              "    <tr>\n",
              "      <th>2</th>\n",
              "      <td>0</td>\n",
              "      <td>2004-09-28 17:15:24.000</td>\n",
              "      <td>6.0</td>\n",
              "      <td>35.8150</td>\n",
              "      <td>-120.3700</td>\n",
              "      <td>7.9</td>\n",
              "      <td>0</td>\n",
              "      <td>BK.BDM</td>\n",
              "      <td>37.95397</td>\n",
              "      <td>-121.86554</td>\n",
              "      <td>1096391726</td>\n",
              "      <td>-0.030000</td>\n",
              "      <td>0.079592</td>\n",
              "      <td>0.133535</td>\n",
              "      <td>large</td>\n",
              "    </tr>\n",
              "    <tr>\n",
              "      <th>3</th>\n",
              "      <td>0</td>\n",
              "      <td>2004-09-28 17:15:24.000</td>\n",
              "      <td>6.0</td>\n",
              "      <td>35.8150</td>\n",
              "      <td>-120.3700</td>\n",
              "      <td>7.9</td>\n",
              "      <td>0</td>\n",
              "      <td>BK.BDM</td>\n",
              "      <td>37.95397</td>\n",
              "      <td>-121.86554</td>\n",
              "      <td>1096391727</td>\n",
              "      <td>-0.030015</td>\n",
              "      <td>0.079610</td>\n",
              "      <td>0.133562</td>\n",
              "      <td>large</td>\n",
              "    </tr>\n",
              "    <tr>\n",
              "      <th>4</th>\n",
              "      <td>0</td>\n",
              "      <td>2004-09-28 17:15:24.000</td>\n",
              "      <td>6.0</td>\n",
              "      <td>35.8150</td>\n",
              "      <td>-120.3700</td>\n",
              "      <td>7.9</td>\n",
              "      <td>0</td>\n",
              "      <td>BK.BDM</td>\n",
              "      <td>37.95397</td>\n",
              "      <td>-121.86554</td>\n",
              "      <td>1096391728</td>\n",
              "      <td>-0.029988</td>\n",
              "      <td>0.079584</td>\n",
              "      <td>0.133523</td>\n",
              "      <td>large</td>\n",
              "    </tr>\n",
              "    <tr>\n",
              "      <th>...</th>\n",
              "      <td>...</td>\n",
              "      <td>...</td>\n",
              "      <td>...</td>\n",
              "      <td>...</td>\n",
              "      <td>...</td>\n",
              "      <td>...</td>\n",
              "      <td>...</td>\n",
              "      <td>...</td>\n",
              "      <td>...</td>\n",
              "      <td>...</td>\n",
              "      <td>...</td>\n",
              "      <td>...</td>\n",
              "      <td>...</td>\n",
              "      <td>...</td>\n",
              "      <td>...</td>\n",
              "    </tr>\n",
              "    <tr>\n",
              "      <th>795895</th>\n",
              "      <td>268</td>\n",
              "      <td>2018-11-30 17:35:37.222</td>\n",
              "      <td>5.7</td>\n",
              "      <td>61.2822</td>\n",
              "      <td>-149.9571</td>\n",
              "      <td>40.8</td>\n",
              "      <td>13264</td>\n",
              "      <td>TA.S31K</td>\n",
              "      <td>57.96160</td>\n",
              "      <td>-136.23200</td>\n",
              "      <td>1543599392</td>\n",
              "      <td>0.148025</td>\n",
              "      <td>-0.047263</td>\n",
              "      <td>-0.176212</td>\n",
              "      <td>medium</td>\n",
              "    </tr>\n",
              "    <tr>\n",
              "      <th>795896</th>\n",
              "      <td>268</td>\n",
              "      <td>2018-11-30 17:35:37.222</td>\n",
              "      <td>5.7</td>\n",
              "      <td>61.2822</td>\n",
              "      <td>-149.9571</td>\n",
              "      <td>40.8</td>\n",
              "      <td>13264</td>\n",
              "      <td>TA.S31K</td>\n",
              "      <td>57.96160</td>\n",
              "      <td>-136.23200</td>\n",
              "      <td>1543599393</td>\n",
              "      <td>0.147972</td>\n",
              "      <td>-0.047309</td>\n",
              "      <td>-0.176345</td>\n",
              "      <td>medium</td>\n",
              "    </tr>\n",
              "    <tr>\n",
              "      <th>795897</th>\n",
              "      <td>268</td>\n",
              "      <td>2018-11-30 17:35:37.222</td>\n",
              "      <td>5.7</td>\n",
              "      <td>61.2822</td>\n",
              "      <td>-149.9571</td>\n",
              "      <td>40.8</td>\n",
              "      <td>13264</td>\n",
              "      <td>TA.S31K</td>\n",
              "      <td>57.96160</td>\n",
              "      <td>-136.23200</td>\n",
              "      <td>1543599394</td>\n",
              "      <td>0.147935</td>\n",
              "      <td>-0.047274</td>\n",
              "      <td>-0.176198</td>\n",
              "      <td>medium</td>\n",
              "    </tr>\n",
              "    <tr>\n",
              "      <th>795898</th>\n",
              "      <td>268</td>\n",
              "      <td>2018-11-30 17:35:37.222</td>\n",
              "      <td>5.7</td>\n",
              "      <td>61.2822</td>\n",
              "      <td>-149.9571</td>\n",
              "      <td>40.8</td>\n",
              "      <td>13264</td>\n",
              "      <td>TA.S31K</td>\n",
              "      <td>57.96160</td>\n",
              "      <td>-136.23200</td>\n",
              "      <td>1543599395</td>\n",
              "      <td>0.148042</td>\n",
              "      <td>-0.047321</td>\n",
              "      <td>-0.176030</td>\n",
              "      <td>medium</td>\n",
              "    </tr>\n",
              "    <tr>\n",
              "      <th>795899</th>\n",
              "      <td>268</td>\n",
              "      <td>2018-11-30 17:35:37.222</td>\n",
              "      <td>5.7</td>\n",
              "      <td>61.2822</td>\n",
              "      <td>-149.9571</td>\n",
              "      <td>40.8</td>\n",
              "      <td>13264</td>\n",
              "      <td>TA.S31K</td>\n",
              "      <td>57.96160</td>\n",
              "      <td>-136.23200</td>\n",
              "      <td>1543599396</td>\n",
              "      <td>0.148009</td>\n",
              "      <td>-0.047344</td>\n",
              "      <td>-0.176032</td>\n",
              "      <td>medium</td>\n",
              "    </tr>\n",
              "  </tbody>\n",
              "</table>\n",
              "<p>795900 rows × 15 columns</p>\n",
              "</div>"
            ],
            "text/plain": [
              "        event_id              event_time  ...  dimension_Z   label\n",
              "0              0 2004-09-28 17:15:24.000  ...     0.133552   large\n",
              "1              0 2004-09-28 17:15:24.000  ...     0.133559   large\n",
              "2              0 2004-09-28 17:15:24.000  ...     0.133535   large\n",
              "3              0 2004-09-28 17:15:24.000  ...     0.133562   large\n",
              "4              0 2004-09-28 17:15:24.000  ...     0.133523   large\n",
              "...          ...                     ...  ...          ...     ...\n",
              "795895       268 2018-11-30 17:35:37.222  ...    -0.176212  medium\n",
              "795896       268 2018-11-30 17:35:37.222  ...    -0.176345  medium\n",
              "795897       268 2018-11-30 17:35:37.222  ...    -0.176198  medium\n",
              "795898       268 2018-11-30 17:35:37.222  ...    -0.176030  medium\n",
              "795899       268 2018-11-30 17:35:37.222  ...    -0.176032  medium\n",
              "\n",
              "[795900 rows x 15 columns]"
            ]
          },
          "metadata": {
            "tags": []
          },
          "execution_count": 7
        }
      ]
    },
    {
      "cell_type": "code",
      "metadata": {
        "id": "vo0BImS_2O0n"
      },
      "source": [
        "dg=data_gps.copy()"
      ],
      "execution_count": 8,
      "outputs": []
    },
    {
      "cell_type": "code",
      "metadata": {
        "colab": {
          "base_uri": "https://localhost:8080/"
        },
        "id": "_d7qyeYq2Ovs",
        "outputId": "cce3782e-5282-4f48-896f-1966552ddca2"
      },
      "source": [
        "dg=dg.set_index('event_time')\n",
        "dg.index"
      ],
      "execution_count": 11,
      "outputs": [
        {
          "output_type": "execute_result",
          "data": {
            "text/plain": [
              "DatetimeIndex(['2004-09-28 17:15:24', '2004-09-28 17:15:24',\n",
              "               '2004-09-28 17:15:24', '2004-09-28 17:15:24',\n",
              "               '2004-09-28 17:15:24', '2004-09-28 17:15:24',\n",
              "               '2004-09-28 17:15:24', '2004-09-28 17:15:24',\n",
              "               '2004-09-28 17:15:24', '2004-09-28 17:15:24',\n",
              "               ...\n",
              "               '2018-11-26 00:52:25', '2018-11-26 00:52:25',\n",
              "               '2018-11-26 00:52:25', '2018-11-26 00:52:25',\n",
              "               '2018-11-26 00:52:25', '2018-11-26 00:52:25',\n",
              "               '2018-11-26 00:52:25', '2018-11-26 00:52:25',\n",
              "               '2018-11-26 00:52:25', '2018-11-26 00:52:25'],\n",
              "              dtype='datetime64[ns]', name='event_time', length=124320, freq=None)"
            ]
          },
          "metadata": {
            "tags": []
          },
          "execution_count": 11
        }
      ]
    },
    {
      "cell_type": "code",
      "metadata": {
        "id": "AutD4Z224tUA"
      },
      "source": [
        "max=dg.index.max()\n",
        "min=dg.index.min()"
      ],
      "execution_count": 15,
      "outputs": []
    },
    {
      "cell_type": "code",
      "metadata": {
        "colab": {
          "base_uri": "https://localhost:8080/"
        },
        "id": "c85SEUXz6uAX",
        "outputId": "d661624a-5b05-42a9-841a-799677a32c19"
      },
      "source": [
        "dg.index.min()"
      ],
      "execution_count": 16,
      "outputs": [
        {
          "output_type": "execute_result",
          "data": {
            "text/plain": [
              "Timestamp('2004-09-28 17:15:24')"
            ]
          },
          "metadata": {
            "tags": []
          },
          "execution_count": 16
        }
      ]
    },
    {
      "cell_type": "code",
      "metadata": {
        "colab": {
          "base_uri": "https://localhost:8080/",
          "height": 562
        },
        "id": "U_-YME_Z5VBE",
        "outputId": "9dfe251b-09f7-4871-bc78-94582434ddb5"
      },
      "source": [
        "d_2015=dg.loc['2004-09-28':'2018-11-26']\n",
        "d_2015_mg=d_2015['event_depth']\n",
        "d_2015_mg.plot(grid=True,figsize=(20,10))"
      ],
      "execution_count": 17,
      "outputs": [
        {
          "output_type": "execute_result",
          "data": {
            "text/plain": [
              "<matplotlib.axes._subplots.AxesSubplot at 0x7faac35cb7d0>"
            ]
          },
          "metadata": {
            "tags": []
          },
          "execution_count": 17
        },
        {
          "output_type": "display_data",
          "data": {
            "image/png": "[encoded data removed]",
            "text/plain": [
              "<Figure size 1440x720 with 1 Axes>"
            ]
          },
          "metadata": {
            "tags": [],
            "needs_background": "light"
          }
        }
      ]
    },
    {
      "cell_type": "code",
      "metadata": {
        "id": "mXVQFR2XDMWE"
      },
      "source": [
        "le=LabelEncoder()\n",
        "data_gps['station']=le.fit_transform(data_gps['station'])"
      ],
      "execution_count": 18,
      "outputs": []
    },
    {
      "cell_type": "code",
      "metadata": {
        "id": "cK62yVXfDMWE"
      },
      "source": [
        "sc=StandardScaler()\n",
        "scale=['event_magnitude','event_latitude','event_longitude','event_depth','mts_id','station','station_latitude','station_longitude','timestamp','dimension_E','dimension_N','dimension_Z']\n",
        "data_gps[scale]=sc.fit_transform(data_gps[scale])"
      ],
      "execution_count": 19,
      "outputs": []
    },
    {
      "cell_type": "code",
      "metadata": {
        "id": "NmF9_356DMWE"
      },
      "source": [
        "data_gps['label']=le.fit_transform(data_gps['label'])"
      ],
      "execution_count": 20,
      "outputs": []
    },
    {
      "cell_type": "code",
      "metadata": {
        "colab": {
          "base_uri": "https://localhost:8080/"
        },
        "id": "Ge0r-5wqXyow",
        "outputId": "1e2168d7-854b-4d0d-9e4e-d4fc62ae43ac"
      },
      "source": [
        "data_gps['label'].value_counts()"
      ],
      "execution_count": 21,
      "outputs": [
        {
          "output_type": "execute_result",
          "data": {
            "text/plain": [
              "1    85440\n",
              "0    38880\n",
              "Name: label, dtype: int64"
            ]
          },
          "metadata": {
            "tags": []
          },
          "execution_count": 21
        }
      ]
    },
    {
      "cell_type": "code",
      "metadata": {
        "id": "DW-nQ2_DDMWF"
      },
      "source": [
        "from sklearn.ensemble import ExtraTreesClassifier"
      ],
      "execution_count": 22,
      "outputs": []
    },
    {
      "cell_type": "code",
      "metadata": {
        "id": "upzaQgNcDMWF"
      },
      "source": [
        "x=data_gps.drop(columns=['label','event_time','timestamp','dimension_E','dimension_N','dimension_Z','mts_id','event_id'],axis=1)\n",
        "y=data_gps['label']"
      ],
      "execution_count": 23,
      "outputs": []
    },
    {
      "cell_type": "code",
      "metadata": {
        "colab": {
          "base_uri": "https://localhost:8080/",
          "height": 424
        },
        "id": "75KZFaRESFBi",
        "outputId": "09c334e9-b081-4eba-ab80-bba1dac89b94"
      },
      "source": [
        "x"
      ],
      "execution_count": 33,
      "outputs": [
        {
          "output_type": "execute_result",
          "data": {
            "text/html": [
              "<div>\n",
              "<style scoped>\n",
              "    .dataframe tbody tr th:only-of-type {\n",
              "        vertical-align: middle;\n",
              "    }\n",
              "\n",
              "    .dataframe tbody tr th {\n",
              "        vertical-align: top;\n",
              "    }\n",
              "\n",
              "    .dataframe thead th {\n",
              "        text-align: right;\n",
              "    }\n",
              "</style>\n",
              "<table border=\"1\" class=\"dataframe\">\n",
              "  <thead>\n",
              "    <tr style=\"text-align: right;\">\n",
              "      <th></th>\n",
              "      <th>event_magnitude</th>\n",
              "      <th>event_latitude</th>\n",
              "      <th>event_longitude</th>\n",
              "      <th>event_depth</th>\n",
              "      <th>station</th>\n",
              "      <th>station_latitude</th>\n",
              "      <th>station_longitude</th>\n",
              "    </tr>\n",
              "  </thead>\n",
              "  <tbody>\n",
              "    <tr>\n",
              "      <th>0</th>\n",
              "      <td>1.132202</td>\n",
              "      <td>1.556964</td>\n",
              "      <td>-1.751327</td>\n",
              "      <td>0.251970</td>\n",
              "      <td>0.512209</td>\n",
              "      <td>1.585800</td>\n",
              "      <td>-1.754921</td>\n",
              "    </tr>\n",
              "    <tr>\n",
              "      <th>1</th>\n",
              "      <td>1.132202</td>\n",
              "      <td>1.556964</td>\n",
              "      <td>-1.751327</td>\n",
              "      <td>0.251970</td>\n",
              "      <td>0.512209</td>\n",
              "      <td>1.585800</td>\n",
              "      <td>-1.754921</td>\n",
              "    </tr>\n",
              "    <tr>\n",
              "      <th>2</th>\n",
              "      <td>1.132202</td>\n",
              "      <td>1.556964</td>\n",
              "      <td>-1.751327</td>\n",
              "      <td>0.251970</td>\n",
              "      <td>0.512209</td>\n",
              "      <td>1.585800</td>\n",
              "      <td>-1.754921</td>\n",
              "    </tr>\n",
              "    <tr>\n",
              "      <th>3</th>\n",
              "      <td>1.132202</td>\n",
              "      <td>1.556964</td>\n",
              "      <td>-1.751327</td>\n",
              "      <td>0.251970</td>\n",
              "      <td>0.512209</td>\n",
              "      <td>1.585800</td>\n",
              "      <td>-1.754921</td>\n",
              "    </tr>\n",
              "    <tr>\n",
              "      <th>4</th>\n",
              "      <td>1.132202</td>\n",
              "      <td>1.556964</td>\n",
              "      <td>-1.751327</td>\n",
              "      <td>0.251970</td>\n",
              "      <td>0.512209</td>\n",
              "      <td>1.585800</td>\n",
              "      <td>-1.754921</td>\n",
              "    </tr>\n",
              "    <tr>\n",
              "      <th>...</th>\n",
              "      <td>...</td>\n",
              "      <td>...</td>\n",
              "      <td>...</td>\n",
              "      <td>...</td>\n",
              "      <td>...</td>\n",
              "      <td>...</td>\n",
              "      <td>...</td>\n",
              "    </tr>\n",
              "    <tr>\n",
              "      <th>124315</th>\n",
              "      <td>-0.666313</td>\n",
              "      <td>-0.339987</td>\n",
              "      <td>0.626801</td>\n",
              "      <td>-0.552686</td>\n",
              "      <td>0.414140</td>\n",
              "      <td>-0.370335</td>\n",
              "      <td>0.624686</td>\n",
              "    </tr>\n",
              "    <tr>\n",
              "      <th>124316</th>\n",
              "      <td>-0.666313</td>\n",
              "      <td>-0.339987</td>\n",
              "      <td>0.626801</td>\n",
              "      <td>-0.552686</td>\n",
              "      <td>0.414140</td>\n",
              "      <td>-0.370335</td>\n",
              "      <td>0.624686</td>\n",
              "    </tr>\n",
              "    <tr>\n",
              "      <th>124317</th>\n",
              "      <td>-0.666313</td>\n",
              "      <td>-0.339987</td>\n",
              "      <td>0.626801</td>\n",
              "      <td>-0.552686</td>\n",
              "      <td>0.414140</td>\n",
              "      <td>-0.370335</td>\n",
              "      <td>0.624686</td>\n",
              "    </tr>\n",
              "    <tr>\n",
              "      <th>124318</th>\n",
              "      <td>-0.666313</td>\n",
              "      <td>-0.339987</td>\n",
              "      <td>0.626801</td>\n",
              "      <td>-0.552686</td>\n",
              "      <td>0.414140</td>\n",
              "      <td>-0.370335</td>\n",
              "      <td>0.624686</td>\n",
              "    </tr>\n",
              "    <tr>\n",
              "      <th>124319</th>\n",
              "      <td>-0.666313</td>\n",
              "      <td>-0.339987</td>\n",
              "      <td>0.626801</td>\n",
              "      <td>-0.552686</td>\n",
              "      <td>0.414140</td>\n",
              "      <td>-0.370335</td>\n",
              "      <td>0.624686</td>\n",
              "    </tr>\n",
              "  </tbody>\n",
              "</table>\n",
              "<p>124320 rows × 7 columns</p>\n",
              "</div>"
            ],
            "text/plain": [
              "        event_magnitude  event_latitude  ...  station_latitude  station_longitude\n",
              "0              1.132202        1.556964  ...          1.585800          -1.754921\n",
              "1              1.132202        1.556964  ...          1.585800          -1.754921\n",
              "2              1.132202        1.556964  ...          1.585800          -1.754921\n",
              "3              1.132202        1.556964  ...          1.585800          -1.754921\n",
              "4              1.132202        1.556964  ...          1.585800          -1.754921\n",
              "...                 ...             ...  ...               ...                ...\n",
              "124315        -0.666313       -0.339987  ...         -0.370335           0.624686\n",
              "124316        -0.666313       -0.339987  ...         -0.370335           0.624686\n",
              "124317        -0.666313       -0.339987  ...         -0.370335           0.624686\n",
              "124318        -0.666313       -0.339987  ...         -0.370335           0.624686\n",
              "124319        -0.666313       -0.339987  ...         -0.370335           0.624686\n",
              "\n",
              "[124320 rows x 7 columns]"
            ]
          },
          "metadata": {
            "tags": []
          },
          "execution_count": 33
        }
      ]
    },
    {
      "cell_type": "code",
      "metadata": {
        "colab": {
          "base_uri": "https://localhost:8080/"
        },
        "id": "yOT5kOIQDMWF",
        "outputId": "faffbd66-4c49-448c-f189-308bf4ba7b8d"
      },
      "source": [
        "model = ExtraTreesClassifier()\n",
        "model.fit(x,y)"
      ],
      "execution_count": 24,
      "outputs": [
        {
          "output_type": "execute_result",
          "data": {
            "text/plain": [
              "ExtraTreesClassifier(bootstrap=False, ccp_alpha=0.0, class_weight=None,\n",
              "                     criterion='gini', max_depth=None, max_features='auto',\n",
              "                     max_leaf_nodes=None, max_samples=None,\n",
              "                     min_impurity_decrease=0.0, min_impurity_split=None,\n",
              "                     min_samples_leaf=1, min_samples_split=2,\n",
              "                     min_weight_fraction_leaf=0.0, n_estimators=100,\n",
              "                     n_jobs=None, oob_score=False, random_state=None, verbose=0,\n",
              "                     warm_start=False)"
            ]
          },
          "metadata": {
            "tags": []
          },
          "execution_count": 24
        }
      ]
    },
    {
      "cell_type": "code",
      "metadata": {
        "colab": {
          "base_uri": "https://localhost:8080/"
        },
        "id": "YReDrOsbDMWG",
        "outputId": "145251ae-a165-45b8-f10e-5527ddcd3e04"
      },
      "source": [
        "model.feature_importances_"
      ],
      "execution_count": 25,
      "outputs": [
        {
          "output_type": "execute_result",
          "data": {
            "text/plain": [
              "array([0.38948451, 0.08036278, 0.1754893 , 0.09391792, 0.05925128,\n",
              "       0.10007759, 0.10141661])"
            ]
          },
          "metadata": {
            "tags": []
          },
          "execution_count": 25
        }
      ]
    },
    {
      "cell_type": "code",
      "metadata": {
        "colab": {
          "base_uri": "https://localhost:8080/",
          "height": 483
        },
        "id": "udT6Jo5VDMWG",
        "outputId": "558fc52a-70b5-4a80-b167-d17436b0beda"
      },
      "source": [
        "plt.figure(figsize=(12,8))\n",
        "impft = pd.Series(model.feature_importances_, index=x.columns)\n",
        "impft.plot(kind='barh')\n",
        "plt.show()"
      ],
      "execution_count": 26,
      "outputs": [
        {
          "output_type": "display_data",
          "data": {
            "image/png": "[encoded data removed]",
            "text/plain": [
              "<Figure size 864x576 with 1 Axes>"
            ]
          },
          "metadata": {
            "tags": [],
            "needs_background": "light"
          }
        }
      ]
    },
    {
      "cell_type": "code",
      "metadata": {
        "id": "QxCpVxacDMWG"
      },
      "source": [
        "from sklearn.model_selection import train_test_split\n",
        "x_train,x_test,y_train,y_test=train_test_split(x,y,test_size=0.15)"
      ],
      "execution_count": 27,
      "outputs": []
    },
    {
      "cell_type": "code",
      "metadata": {
        "id": "8L3Zg28xDMWH"
      },
      "source": [
        "from sklearn.svm import SVC\n",
        "from sklearn.model_selection import GridSearchCV"
      ],
      "execution_count": 28,
      "outputs": []
    },
    {
      "cell_type": "code",
      "metadata": {
        "id": "j-NbO4C9MF7m"
      },
      "source": [
        "from sklearn.svm import SVC\n",
        "classifier = SVC(kernel = 'rbf', random_state = 0)\n",
        "classifier.fit(x_train, y_train)\n",
        "y_pred = classifier.predict(x_test)"
      ],
      "execution_count": 29,
      "outputs": []
    },
    {
      "cell_type": "code",
      "metadata": {
        "id": "OQIeUOFYMjxe"
      },
      "source": [
        "from sklearn.metrics import confusion_matrix, accuracy_score\n",
        "cm = confusion_matrix(y_test, y_pred)\n",
        "asc = accuracy_score(y_test,y_pred)"
      ],
      "execution_count": 30,
      "outputs": []
    },
    {
      "cell_type": "code",
      "metadata": {
        "colab": {
          "base_uri": "https://localhost:8080/"
        },
        "id": "stIu-wMaM0Qe",
        "outputId": "c35d55a8-a243-4d4b-97e6-70e82ea2f38a"
      },
      "source": [
        "cm"
      ],
      "execution_count": 31,
      "outputs": [
        {
          "output_type": "execute_result",
          "data": {
            "text/plain": [
              "array([[ 5876,     0],\n",
              "       [    0, 12772]])"
            ]
          },
          "metadata": {
            "tags": []
          },
          "execution_count": 31
        }
      ]
    },
    {
      "cell_type": "code",
      "metadata": {
        "colab": {
          "base_uri": "https://localhost:8080/"
        },
        "id": "dscXbKRIS0xK",
        "outputId": "0437cf4e-eb16-4896-afe0-c3f585397eec"
      },
      "source": [
        "x_train.shape"
      ],
      "execution_count": 32,
      "outputs": [
        {
          "output_type": "execute_result",
          "data": {
            "text/plain": [
              "(105672, 7)"
            ]
          },
          "metadata": {
            "tags": []
          },
          "execution_count": 32
        }
      ]
    },
    {
      "cell_type": "code",
      "metadata": {
        "id": "TTHGYBvJQO-s"
      },
      "source": [
        "test=[[-0.666313 ,-0.339987 ,0.626801 ,-0.552686 ,0.414140 ,-0.370335 ,0.624686]]\n",
        "#sc.fit_transform(test)"
      ],
      "execution_count": 34,
      "outputs": []
    },
    {
      "cell_type": "code",
      "metadata": {
        "colab": {
          "base_uri": "https://localhost:8080/"
        },
        "id": "RYjtYYJkNXYG",
        "outputId": "841b7d4d-b5f6-4cbd-ca2c-73007a164106"
      },
      "source": [
        "classifier.predict(test)"
      ],
      "execution_count": 35,
      "outputs": [
        {
          "output_type": "execute_result",
          "data": {
            "text/plain": [
              "array([1])"
            ]
          },
          "metadata": {
            "tags": []
          },
          "execution_count": 35
        }
      ]
    },
    {
      "cell_type": "code",
      "metadata": {
        "colab": {
          "base_uri": "https://localhost:8080/"
        },
        "id": "83Oh4hECZAqk",
        "outputId": "380469fb-5333-4814-8b46-96f3b12e1882"
      },
      "source": [
        "y=y.to_numpy()\n",
        "X=x.to_numpy()\n",
        "\n",
        "from sklearn.model_selection import StratifiedKFold\n",
        "acc=[]\n",
        "stratified_k_fold = StratifiedKFold(n_splits=7, shuffle=True,random_state=10001)\n",
        "\n",
        "for train_indices, test_indices in stratified_k_fold.split(X, y):\n",
        "  x_trains=X[train_indices]\n",
        "  y_trains=y[train_indices]\n",
        "  x_tests=X[test_indices]\n",
        "  y_tests=y[test_indices]\n",
        "\n",
        "  x_trains = sc.fit_transform(x_trains)\n",
        "  x_tests = sc.transform(x_tests)\n",
        "\n",
        "\n",
        "  classifier = SVC(kernel = 'rbf',C=1,gamma=0.5)\n",
        "  classifier.fit(x_trains, y_trains)\n",
        "  y_pred = classifier.predict(x_tests)\n",
        "  accuracy2=accuracy_score(y_tests,y_pred)*100\n",
        "  acc.append(accuracy2)\n",
        "  print(accuracy2)"
      ],
      "execution_count": null,
      "outputs": [
        {
          "output_type": "stream",
          "text": [
            "100.0\n",
            "100.0\n",
            "100.0\n",
            "100.0\n",
            "100.0\n",
            "100.0\n",
            "100.0\n"
          ],
          "name": "stdout"
        }
      ]
    },
    {
      "cell_type": "code",
      "metadata": {
        "id": "7sDUWz9rDMWH"
      },
      "source": [
        ""
      ],
      "execution_count": null,
      "outputs": []
    }
  ]
}